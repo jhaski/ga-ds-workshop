{
 "metadata": {
  "name": "Logistic_Regression"
 },
 "nbformat": 3,
 "nbformat_minor": 0,
 "worksheets": [
  {
   "cells": [
    {
     "cell_type": "code",
     "collapsed": false,
     "input": [
      "import numpy as np\n",
      "from pandas import *\n",
      "from statsmodels.formula.api import logit\n",
      "from statsmodels import *\n",
      "#from statsmodels.nonparametric import KDE\n",
      "import matplotlib.pyplot as plt\n",
      "from patsy import dmatrix, dmatrices\n",
      "from scipy.stats import gaussian_kde"
     ],
     "language": "python",
     "metadata": {},
     "outputs": []
    },
    {
     "cell_type": "code",
     "collapsed": false,
     "input": [
      "df = read_csv('../input/well_data.csv')\n",
      "print df.head()"
     ],
     "language": "python",
     "metadata": {},
     "outputs": []
    },
    {
     "cell_type": "code",
     "collapsed": false,
     "input": [
      "df.columns"
     ],
     "language": "python",
     "metadata": {},
     "outputs": []
    },
    {
     "cell_type": "code",
     "collapsed": false,
     "input": [
      "model1 = logit('switch ~ I(dist/100.)', df).fit()\n",
      "print model1.summary()"
     ],
     "language": "python",
     "metadata": {},
     "outputs": []
    },
    {
     "cell_type": "code",
     "collapsed": false,
     "input": [
      "def binary_jitter(x, jitter_amount = .05):\n",
      "    '''\n",
      "    Add jitter to a 0/1 vector of data for plotting.\n",
      "    '''\n",
      "    jitters = np.random.rand(*x.shape) * jitter_amount\n",
      "    x_jittered = x + np.where(x == 1, -1, 1) * jitters\n",
      "    return x_jittered"
     ],
     "language": "python",
     "metadata": {},
     "outputs": []
    },
    {
     "cell_type": "code",
     "collapsed": false,
     "input": [
      "df['pred'] = model1.predict()"
     ],
     "language": "python",
     "metadata": {},
     "outputs": []
    },
    {
     "cell_type": "code",
     "collapsed": false,
     "input": [
      "dist_logit_par = model1.params['I(dist / 100.)']\n",
      "plt.plot(df['dist'], binary_jitter(df['switch'], .1), '.', alpha = .1)\n",
      "plt.plot(df.dist, df.pred, lw = 2)\n",
      "plt.ylabel('Switched Wells')\n",
      "plt.xlabel('Distance from safe well (meters)')"
     ],
     "language": "python",
     "metadata": {},
     "outputs": []
    },
    {
     "cell_type": "code",
     "collapsed": false,
     "input": [
      "\n",
      "kde_sw = gaussian_kde(df['dist'][df['switch'] == 1])\n",
      "kde_nosw = gaussian_kde(df['dist'][df['switch'] == 0])\n",
      "\n",
      "xs = np.linspace(0,400,200)\n",
      "\n",
      "kde_sw.covariance_factor = lambda : .25\n",
      "kde_sw._compute_covariance()\n",
      "kde_nosw.covariance_factor = lambda : .25\n",
      "kde_nosw._compute_covariance()\n",
      "\n",
      "plt.plot(xs,kde_sw(xs), label = 'Switch')\n",
      "plt.plot(xs,kde_nosw(xs), color = 'red', label = 'No Switch')\n",
      "plt.xlabel('Distance (meters)')\n",
      "plt.legend(loc = 'best')\n",
      "plt.show()"
     ],
     "language": "python",
     "metadata": {},
     "outputs": []
    },
    {
     "cell_type": "code",
     "collapsed": false,
     "input": [
      "# Model 2\n",
      "model2 = logit('switch ~ I(dist / 100.) + arsenic', df).fit()\n",
      "print model2.summary()"
     ],
     "language": "python",
     "metadata": {},
     "outputs": []
    },
    {
     "cell_type": "code",
     "collapsed": false,
     "input": [
      "model2.get_margeff(at = 'mean').summary()"
     ],
     "language": "python",
     "metadata": {},
     "outputs": []
    },
    {
     "cell_type": "code",
     "collapsed": false,
     "input": [],
     "language": "python",
     "metadata": {},
     "outputs": []
    },
    {
     "cell_type": "code",
     "collapsed": false,
     "input": [
      "model3 = logit('switch ~ I(dist / 100.) + arsenic + I(dist / 100.):arsenic', df).fit()\n",
      "print model3.summary()"
     ],
     "language": "python",
     "metadata": {},
     "outputs": []
    },
    {
     "cell_type": "code",
     "collapsed": false,
     "input": [
      "print model3.pred_table()\n",
      "print 'Model Error rate: {0: 3.0%}'.format(\n",
      "    1 - np.diag(model3.pred_table()).sum() / model3.pred_table().sum())\n",
      "print 'Null Error Rate: {0: 3.0%}'.format(\n",
      "    1 - df['switch'].mean())"
     ],
     "language": "python",
     "metadata": {},
     "outputs": []
    },
    {
     "cell_type": "code",
     "collapsed": false,
     "input": [],
     "language": "python",
     "metadata": {},
     "outputs": []
    }
   ],
   "metadata": {}
  }
 ]
}